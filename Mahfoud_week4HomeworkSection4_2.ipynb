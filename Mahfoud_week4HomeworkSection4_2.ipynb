{
 "cells": [
  {
   "cell_type": "markdown",
   "metadata": {},
   "source": [
    "# Python Questions and Answers"
   ]
  },
  {
   "cell_type": "markdown",
   "metadata": {},
   "source": [
    "### 1. What does one need to do to use a module?"
   ]
  },
  {
   "cell_type": "code",
   "execution_count": null,
   "metadata": {},
   "outputs": [],
   "source": [
    "# Answer: Import the module using `import [module/library name]` or import a specific function with `from [module/library name] import [function]`.\n",
    "import welcome as we\n",
    "from welcome import welcome_message"
   ]
  },
  {
   "cell_type": "markdown",
   "metadata": {},
   "source": [
    "### 2. Name a Module (not the DateTime Module) and write example code"
   ]
  },
  {
   "cell_type": "code",
   "execution_count": 1,
   "metadata": {},
   "outputs": [
    {
     "name": "stdout",
     "output_type": "stream",
     "text": [
      "11\n"
     ]
    }
   ],
   "source": [
    "# Example using the Math module\n",
    "import math\n",
    "print(math.ceil(10.2))  # Output: 11"
   ]
  },
  {
   "cell_type": "markdown",
   "metadata": {},
   "source": [
    "### 3. What is a benefit of using Exception handling?"
   ]
  },
  {
   "cell_type": "markdown",
   "metadata": {},
   "source": [
    "Answer: It allows the program to continue running even if an error occurs, it can help prevent crashes."
   ]
  },
  {
   "cell_type": "markdown",
   "metadata": {},
   "source": [
    "### 4. What are the 4 components used for Python Exception Handling?"
   ]
  },
  {
   "cell_type": "markdown",
   "metadata": {},
   "source": [
    "Answer: `try`, `except`, `else`, and `finally`."
   ]
  },
  {
   "cell_type": "markdown",
   "metadata": {},
   "source": [
    "### 5. NumPy arrays are like what Python data type?"
   ]
  },
  {
   "cell_type": "markdown",
   "metadata": {},
   "source": [
    "Answer: Lists, Lists store various data types, while Arrays store ONLY 1 specified data type."
   ]
  },
  {
   "cell_type": "markdown",
   "metadata": {},
   "source": [
    "### 6. What is one of the main benefits of using NumPy arrays?"
   ]
  },
  {
   "cell_type": "markdown",
   "metadata": {},
   "source": [
    "Answer: They occupy less memory and are faster compared to lists."
   ]
  },
  {
   "cell_type": "markdown",
   "metadata": {},
   "source": [
    "### 7. What is one of the main requirements about the 'dtype' of NumPy arrays?"
   ]
  },
  {
   "cell_type": "markdown",
   "metadata": {},
   "source": [
    "Answer: All elements must be of the same data type."
   ]
  },
  {
   "cell_type": "markdown",
   "metadata": {},
   "source": [
    "### 8. Of the 10 uses of NumPy, name 2."
   ]
  },
  {
   "cell_type": "markdown",
   "metadata": {},
   "source": [
    "Answer:\n",
    "- Multidimensional arrays and matrix data structures.\n",
    "- High-level mathematical functions for arrays and matrices."
   ]
  },
  {
   "cell_type": "markdown",
   "metadata": {},
   "source": [
    "### 9. Name one of the other libraries we'll use with NumPy?"
   ]
  },
  {
   "cell_type": "markdown",
   "metadata": {},
   "source": [
    "Answer: Pandas."
   ]
  },
  {
   "cell_type": "markdown",
   "metadata": {},
   "source": [
    "### 10. What is the shape of NumPy arrays?"
   ]
  },
  {
   "cell_type": "markdown",
   "metadata": {},
   "source": [
    "Answer: A tuple of non-negative integers specifying the dimensions, rows, and columns (e.g., `(3, 4)` for a 2D array with 3 rows and 4 columns)."
   ]
  },
  {
   "cell_type": "markdown",
   "metadata": {},
   "source": [
    "### 11. What is a Tensor?"
   ]
  },
  {
   "cell_type": "markdown",
   "metadata": {},
   "source": [
    "Answer: An array with 3 or more dimensions."
   ]
  },
  {
   "cell_type": "markdown",
   "metadata": {},
   "source": [
    "### 12. Why is NumPy better for Data Analysis than Python Lists?"
   ]
  },
  {
   "cell_type": "markdown",
   "metadata": {},
   "source": [
    "Answer: NumPy arrays are more efficient (faster and use less memory)."
   ]
  },
  {
   "cell_type": "markdown",
   "metadata": {},
   "source": [
    "### 13. When creating an \"empty\" array, where do the elements come from?"
   ]
  },
  {
   "cell_type": "markdown",
   "metadata": {},
   "source": [
    "Answer: The elements are random and depend on the state of the memory."
   ]
  },
  {
   "cell_type": "markdown",
   "metadata": {},
   "source": [
    "---"
   ]
  },
  {
   "cell_type": "markdown",
   "metadata": {},
   "source": [
    "## Coding Questions"
   ]
  },
  {
   "cell_type": "markdown",
   "metadata": {},
   "source": [
    "### 1. Create an if statement"
   ]
  },
  {
   "cell_type": "markdown",
   "metadata": {},
   "source": [
    "if 'age' is greater than or equal to 25, print \"Renting a car is more affordable\", however if 'age' is less than 25, print \"Renting a car is very expensive.\""
   ]
  },
  {
   "cell_type": "code",
   "execution_count": 1,
   "metadata": {},
   "outputs": [
    {
     "name": "stdout",
     "output_type": "stream",
     "text": [
      "Renting a car is more affordable\n"
     ]
    }
   ],
   "source": [
    "age = 30\n",
    "if age >= 25:\n",
    "    print(\"Renting a car is more affordable\")\n",
    "else:\n",
    "    print(\"Renting a car is very expensive.\")"
   ]
  },
  {
   "cell_type": "markdown",
   "metadata": {},
   "source": [
    "### 2. Chain an if-else statement"
   ]
  },
  {
   "cell_type": "markdown",
   "metadata": {},
   "source": [
    " if 'age' is greater than or equal to 25, print \"Renting a car is more affordable.\" If 'age' is less than 25 but greater than or equal to 18, print \"Renting a car is very expensive.\" Finally, if age is less than 18, print \"You cannot legally rent a car.\""
   ]
  },
  {
   "cell_type": "code",
   "execution_count": 2,
   "metadata": {},
   "outputs": [
    {
     "name": "stdout",
     "output_type": "stream",
     "text": [
      "Renting a car is very expensive.\n"
     ]
    }
   ],
   "source": [
    "age = 20\n",
    "if age >= 25:\n",
    "    print(\"Renting a car is more affordable.\")\n",
    "elif age >= 18:\n",
    "    print(\"Renting a car is very expensive.\")\n",
    "else:\n",
    "    print(\"You cannot legally rent a car.\")"
   ]
  },
  {
   "cell_type": "markdown",
   "metadata": {},
   "source": [
    "### 3. Loop over the following string to (1) count all the characters in the string and (2) print out all the vowels -- \"The quick brown fox jumps over the lazy dog\""
   ]
  },
  {
   "cell_type": "code",
   "execution_count": 3,
   "metadata": {},
   "outputs": [
    {
     "name": "stdout",
     "output_type": "stream",
     "text": [
      "e\n",
      "u\n",
      "i\n",
      "o\n",
      "o\n",
      "u\n",
      "o\n",
      "e\n",
      "e\n",
      "a\n",
      "o\n",
      "Total characters: 43\n"
     ]
    }
   ],
   "source": [
    "s = \"The quick brown fox jumps over the lazy dog\"\n",
    "vowels = \"aeiou\"\n",
    "count = 0\n",
    "for char in s:\n",
    "    if char.lower() in vowels:\n",
    "        print(char)\n",
    "    count += 1\n",
    "print(\"Total characters:\", count)"
   ]
  },
  {
   "cell_type": "markdown",
   "metadata": {},
   "source": [
    "### 4. Write a nested loop that prints out every piece of clothing from the `couture` list, in every fashionable color from the `panettone` set"
   ]
  },
  {
   "cell_type": "code",
   "execution_count": 4,
   "metadata": {},
   "outputs": [
    {
     "name": "stdout",
     "output_type": "stream",
     "text": [
      "trousers gunmetal blue\n",
      "trousers aqua\n",
      "trousers fuchsia\n",
      "trousers cerise\n",
      "trousers Dark Sapphire\n",
      "trousers burnt sienna\n",
      "trousers auburn\n",
      "trousers maple\n",
      "blouse gunmetal blue\n",
      "blouse aqua\n",
      "blouse fuchsia\n",
      "blouse cerise\n",
      "blouse Dark Sapphire\n",
      "blouse burnt sienna\n",
      "blouse auburn\n",
      "blouse maple\n",
      "bandana gunmetal blue\n",
      "bandana aqua\n",
      "bandana fuchsia\n",
      "bandana cerise\n",
      "bandana Dark Sapphire\n",
      "bandana burnt sienna\n",
      "bandana auburn\n",
      "bandana maple\n",
      "cumber band gunmetal blue\n",
      "cumber band aqua\n",
      "cumber band fuchsia\n",
      "cumber band cerise\n",
      "cumber band Dark Sapphire\n",
      "cumber band burnt sienna\n",
      "cumber band auburn\n",
      "cumber band maple\n",
      "blazer gunmetal blue\n",
      "blazer aqua\n",
      "blazer fuchsia\n",
      "blazer cerise\n",
      "blazer Dark Sapphire\n",
      "blazer burnt sienna\n",
      "blazer auburn\n",
      "blazer maple\n",
      "vest gunmetal blue\n",
      "vest aqua\n",
      "vest fuchsia\n",
      "vest cerise\n",
      "vest Dark Sapphire\n",
      "vest burnt sienna\n",
      "vest auburn\n",
      "vest maple\n",
      "french beret gunmetal blue\n",
      "french beret aqua\n",
      "french beret fuchsia\n",
      "french beret cerise\n",
      "french beret Dark Sapphire\n",
      "french beret burnt sienna\n",
      "french beret auburn\n",
      "french beret maple\n",
      "scarf gunmetal blue\n",
      "scarf aqua\n",
      "scarf fuchsia\n",
      "scarf cerise\n",
      "scarf Dark Sapphire\n",
      "scarf burnt sienna\n",
      "scarf auburn\n",
      "scarf maple\n",
      "stole gunmetal blue\n",
      "stole aqua\n",
      "stole fuchsia\n",
      "stole cerise\n",
      "stole Dark Sapphire\n",
      "stole burnt sienna\n",
      "stole auburn\n",
      "stole maple\n"
     ]
    }
   ],
   "source": [
    "couture = [\"trousers\", \"blouse\", \"bandana\", \"cumber band\", \"blazer\", \"vest\", \"french beret\", \"scarf\", \"stole\"]\n",
    "panettone = {\"cerise\", \"fuchsia\", \"aqua\", \"maple\", \"auburn\", \"burnt sienna\", \"gunmetal blue\", \"Dark Sapphire\"}\n",
    "for item in couture:\n",
    "    for color in panettone:\n",
    "        print(item, color)"
   ]
  },
  {
   "cell_type": "markdown",
   "metadata": {},
   "source": [
    "### 5. Sum of numbers from 1 to 100"
   ]
  },
  {
   "cell_type": "markdown",
   "metadata": {},
   "source": [
    "Use range as a loop to calculate the sum of all the numbers from 1 to 100"
   ]
  },
  {
   "cell_type": "code",
   "execution_count": 5,
   "metadata": {},
   "outputs": [
    {
     "name": "stdout",
     "output_type": "stream",
     "text": [
      "5050\n"
     ]
    }
   ],
   "source": [
    "total = 0\n",
    "for num in range(1, 101):\n",
    "    total += num\n",
    "print(total)"
   ]
  },
  {
   "cell_type": "markdown",
   "metadata": {},
   "source": [
    "### 6. Print the second item in the fruits list"
   ]
  },
  {
   "cell_type": "code",
   "execution_count": 6,
   "metadata": {},
   "outputs": [
    {
     "name": "stdout",
     "output_type": "stream",
     "text": [
      "banana\n"
     ]
    }
   ],
   "source": [
    "fruits = [\"apple\", \"banana\", \"cherry\"]\n",
    "print(fruits[1])"
   ]
  },
  {
   "cell_type": "markdown",
   "metadata": {},
   "source": [
    "### 7. Change \"apple\" to \"kiwi\""
   ]
  },
  {
   "cell_type": "code",
   "execution_count": null,
   "metadata": {},
   "outputs": [],
   "source": [
    "fruits = [\"apple\", \"banana\", \"cherry\"]\n",
    "fruits[0] = \"kiwi\"\n",
    "print(fruits)"
   ]
  },
  {
   "cell_type": "markdown",
   "metadata": {},
   "source": [
    "### 8. Append \"orange\""
   ]
  },
  {
   "cell_type": "code",
   "execution_count": 7,
   "metadata": {},
   "outputs": [
    {
     "name": "stdout",
     "output_type": "stream",
     "text": [
      "['apple', 'banana', 'cherry', 'orange']\n"
     ]
    }
   ],
   "source": [
    "fruits = [\"apple\", \"banana\", \"cherry\"]\n",
    "fruits.append(\"orange\")\n",
    "print(fruits)"
   ]
  },
  {
   "cell_type": "markdown",
   "metadata": {},
   "source": [
    "### 9. Insert \"lemon\" as the second item"
   ]
  },
  {
   "cell_type": "code",
   "execution_count": 8,
   "metadata": {},
   "outputs": [
    {
     "name": "stdout",
     "output_type": "stream",
     "text": [
      "['apple', 'lemon', 'banana', 'cherry']\n"
     ]
    }
   ],
   "source": [
    "fruits = [\"apple\", \"banana\", \"cherry\"]\n",
    "fruits.insert(1, \"lemon\")\n",
    "print(fruits)"
   ]
  },
  {
   "cell_type": "markdown",
   "metadata": {},
   "source": [
    "### 10. Remove \"banana\""
   ]
  },
  {
   "cell_type": "code",
   "execution_count": 9,
   "metadata": {},
   "outputs": [
    {
     "name": "stdout",
     "output_type": "stream",
     "text": [
      "['apple', 'cherry']\n"
     ]
    }
   ],
   "source": [
    "fruits = [\"apple\", \"banana\", \"cherry\"]\n",
    "fruits.remove(\"banana\")\n",
    "print(fruits)"
   ]
  },
  {
   "cell_type": "markdown",
   "metadata": {},
   "source": [
    "### 11. Negative indexing for 3rd and 2nd to last items"
   ]
  },
  {
   "cell_type": "code",
   "execution_count": 10,
   "metadata": {},
   "outputs": [
    {
     "name": "stdout",
     "output_type": "stream",
     "text": [
      "kiwi melon\n"
     ]
    }
   ],
   "source": [
    "fruits = [\"apple\", \"banana\", \"cherry\", \"orange\", \"kiwi\", \"melon\", \"mango\"]\n",
    "print(fruits[-3], fruits[-2])"
   ]
  },
  {
   "cell_type": "markdown",
   "metadata": {},
   "source": [
    "### 12. Range of indexes for third, fourth, and fifth items"
   ]
  },
  {
   "cell_type": "code",
   "execution_count": 11,
   "metadata": {},
   "outputs": [
    {
     "name": "stdout",
     "output_type": "stream",
     "text": [
      "['cherry', 'orange', 'kiwi']\n"
     ]
    }
   ],
   "source": [
    "fruits = [\"apple\", \"banana\", \"cherry\", \"orange\", \"kiwi\", \"melon\", \"mango\"]\n",
    "print(fruits[2:5])"
   ]
  },
  {
   "cell_type": "markdown",
   "metadata": {},
   "source": [
    "### 13. Number of items in the list"
   ]
  },
  {
   "cell_type": "code",
   "execution_count": 13,
   "metadata": {},
   "outputs": [
    {
     "name": "stdout",
     "output_type": "stream",
     "text": [
      "7\n"
     ]
    }
   ],
   "source": [
    "fruits = [\"apple\", \"banana\", \"cherry\", \"orange\", \"kiwi\", \"melon\", \"mango\"]\n",
    "print(len(fruits))"
   ]
  },
  {
   "cell_type": "markdown",
   "metadata": {},
   "source": [
    "### 14. Sort the list in reverse order"
   ]
  },
  {
   "cell_type": "code",
   "execution_count": 12,
   "metadata": {},
   "outputs": [
    {
     "name": "stdout",
     "output_type": "stream",
     "text": [
      "['orange', 'melon', 'mango', 'kiwi', 'cherry', 'banana', 'apple']\n"
     ]
    }
   ],
   "source": [
    "fruits = [\"apple\", \"banana\", \"cherry\", \"orange\", \"kiwi\", \"melon\", \"mango\"]\n",
    "fruits.sort(reverse=True)\n",
    "print(fruits)"
   ]
  },
  {
   "cell_type": "markdown",
   "metadata": {},
   "source": [
    "### 15. DateTime module"
   ]
  },
  {
   "cell_type": "markdown",
   "metadata": {},
   "source": [
    "Use the DateTime module to get Current Date and Time, and save it to a variable. Then extract just the Full month name form that variable."
   ]
  },
  {
   "cell_type": "code",
   "execution_count": 14,
   "metadata": {},
   "outputs": [
    {
     "name": "stdout",
     "output_type": "stream",
     "text": [
      "April\n"
     ]
    }
   ],
   "source": [
    "import datetime as dt\n",
    "current_date = dt.datetime.now()\n",
    "print(current_date.strftime(\"%B\"))"
   ]
  },
  {
   "cell_type": "markdown",
   "metadata": {},
   "source": [
    "### 16. Function with default parameter"
   ]
  },
  {
   "cell_type": "markdown",
   "metadata": {},
   "source": [
    "Write a simple function that takes 2 parameters -- a  first name and a day name.\n",
    "    - Set a default value for the day name of Sunday."
   ]
  },
  {
   "cell_type": "code",
   "execution_count": 16,
   "metadata": {},
   "outputs": [
    {
     "name": "stdout",
     "output_type": "stream",
     "text": [
      "Hi Ali! Happy Monday!\n",
      "Hi B! Happy Sunday!\n"
     ]
    }
   ],
   "source": [
    "def greet(first_name, day_name=\"Sunday\"):\n",
    "    print(f\"Hi {first_name}! Happy {day_name}!\")\n",
    "\n",
    "greet(\"Ali\", \"Monday\")\n",
    "greet(\"B\")"
   ]
  },
  {
   "cell_type": "markdown",
   "metadata": {},
   "source": [
    "### 17. Exception handling with `try`, `except`, `else`, `finally`"
   ]
  },
  {
   "cell_type": "markdown",
   "metadata": {},
   "source": [
    " Write a block of code to handle one of the most common Python exception errors. Select one of the common errors from the curriculum section on Python Exception handling. Have your code example uses the `try`,`except`, `else`, and `finally` components."
   ]
  },
  {
   "cell_type": "code",
   "execution_count": 17,
   "metadata": {},
   "outputs": [
    {
     "name": "stdout",
     "output_type": "stream",
     "text": [
      "Variable x is not defined\n",
      "Execution completed\n"
     ]
    }
   ],
   "source": [
    "try:\n",
    "    print(x)\n",
    "except NameError:\n",
    "    print(\"Variable x is not defined\")\n",
    "else:\n",
    "    print(\"No errors occurred\")\n",
    "finally:\n",
    "    print(\"Execution completed\")"
   ]
  }
 ],
 "metadata": {
  "kernelspec": {
   "display_name": "Python 3",
   "language": "python",
   "name": "python3"
  },
  "language_info": {
   "codemirror_mode": {
    "name": "ipython",
    "version": 3
   },
   "file_extension": ".py",
   "mimetype": "text/x-python",
   "name": "python",
   "nbconvert_exporter": "python",
   "pygments_lexer": "ipython3",
   "version": "3.13.2"
  }
 },
 "nbformat": 4,
 "nbformat_minor": 2
}
