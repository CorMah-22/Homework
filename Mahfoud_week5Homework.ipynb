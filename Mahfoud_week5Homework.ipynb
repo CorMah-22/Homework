{
 "cells": [
  {
   "cell_type": "markdown",
   "metadata": {},
   "source": [
    "# Python Homework "
   ]
  },
  {
   "cell_type": "markdown",
   "metadata": {},
   "source": [
    "## I. Data Types"
   ]
  },
  {
   "cell_type": "markdown",
   "metadata": {},
   "source": [
    "### 1. What is an algorithm?\n",
    "\n",
    "series of steps to solve a problem.\n",
    "\n",
    "## 2. Variable names may not start with certain characters - name two.\n",
    "\n",
    "number and special charrecter such as *\n",
    "\n",
    "### 3. What is a Semantic error?\n",
    "\n",
    "when the code is correct in terms of the grammer but does not mak sense, and it would not produce the intend result\n",
    "\n",
    "### 4. What is the #1 rule of coding / debugging?\n",
    "\n",
    "Complexity is the enemy of efficiency.\n",
    "### 5. List 5 Python reserved words\n",
    "\n",
    "False, True, as, def, elif"
   ]
  },
  {
   "cell_type": "markdown",
   "metadata": {},
   "source": [
    "### 6. Write a multi-line string with your name, favorite food, and dream job on 3 different lines"
   ]
  },
  {
   "cell_type": "code",
   "execution_count": null,
   "metadata": {},
   "outputs": [],
   "source": [
    "multi_line_string = \"\"\"\n",
    "Mahfoud\n",
    "Chicken Wings\n",
    "Data Analyst\n",
    "\"\"\""
   ]
  },
  {
   "cell_type": "markdown",
   "metadata": {},
   "source": [
    "### 7. Assign 5 different data types to 5 different variables."
   ]
  },
  {
   "cell_type": "code",
   "execution_count": null,
   "metadata": {},
   "outputs": [
    {
     "name": "stdout",
     "output_type": "stream",
     "text": [
      "14\n",
      "s\n",
      "14\n"
     ]
    }
   ],
   "source": [
    "int_num =7\n",
    "float_num= 11.33\n",
    "bool_T= True\n",
    "string= \"This is string\"\n",
    "list = [\"apple\", \"orange\", \"kiwi\", 1, 2, 3]\n",
    "dictionary = {\n",
    "    \"title\" : \"Data Analysis with Open Source Tools\",\n",
    "    \"year\" : 2010,\n",
    "    \"ISBN\": \"0596802358\"\n",
    "}\n",
    "#  At least one datatype must be a string  \n",
    "    # - Print the length of your string\n",
    "print(len(string))\n",
    "    # - Print the index value of the 4th character in your string\n",
    "print(string[3])\n",
    "\n",
    "print(len(string))"
   ]
  },
  {
   "cell_type": "markdown",
   "metadata": {},
   "source": [
    "### 8. Create a new variable called savvy, and assign it the string with this\n"
   ]
  },
  {
   "cell_type": "code",
   "execution_count": null,
   "metadata": {},
   "outputs": [
    {
     "name": "stdout",
     "output_type": "stream",
     "text": [
      "8\n",
      "27\n",
      "ing Data Analytics and\n",
      "Learning Data Analytics and Python is great!\n",
      "No, 'python' is NOT present.\n"
     ]
    }
   ],
   "source": [
    "#  phrase \"Learning Data Analytics and Python is Awesome!\"\n",
    "savvy = \"Learning Data Analytics and Python is Awesome!\"\n",
    "    # - Return a range of characters that slices the \n",
    "    # above string from the beginning of  \"ing\" up to before \"and\"\n",
    "print(len(\"Learning\"))\n",
    "print(len(\"Learning Data Analytics and\"))\n",
    "slice1 = savvy[5:27]\n",
    "print(slice1)\n",
    "    # - Replace \"Awesome\" with \"great\" in the string\n",
    "print(savvy.replace(\"Awesome\", \"great\"))\n",
    "    # - Test and print the savvy string to see it contains \"Python\"\n",
    "if \"python\" in savvy:\n",
    "    print(\"Yes, 'python' is present.\")\n",
    "if \"python\" not in savvy:\n",
    "    print(\"No, 'python' is NOT present.\")"
   ]
  },
  {
   "cell_type": "markdown",
   "metadata": {},
   "source": [
    "### 9. Create and assign 3 more variables called name, age and length using the multi-variable  naming method"
   ]
  },
  {
   "cell_type": "code",
   "execution_count": null,
   "metadata": {},
   "outputs": [
    {
     "name": "stdout",
     "output_type": "stream",
     "text": [
      "Hi my name is mk, I am 5 inches tall and 23 old today.\n",
      "Hi my name is mk, I am 5 inches tall and 23.0 old today.\n"
     ]
    }
   ],
   "source": [
    "\n",
    "name = \"mk\"\n",
    "age = 23\n",
    "length = 5\n",
    "    # - Format a new string called 'miniBio' using variables\n",
    "    #  in curly brackets to complete this phrase... \n",
    "    # \"Hi my name is (name), I am (tall) and (so) old today.\"\n",
    "\n",
    "miniBio = \"Hi my name is {}, I am {} inches tall and {} old today.\"\n",
    "    # - Print 'miniBio'\n",
    "print(miniBio.format(name, length, age))\n",
    "    # - Cast and print the age variable to a float\n",
    "age = float(age)\n",
    "print(miniBio.format(name, length, age))"
   ]
  },
  {
   "cell_type": "markdown",
   "metadata": {},
   "source": [
    "## II. Complex Data Types:"
   ]
  },
  {
   "cell_type": "markdown",
   "metadata": {},
   "source": [
    "### 10. Create a list of at least 5 elements of mixed data types"
   ]
  },
  {
   "cell_type": "code",
   "execution_count": null,
   "metadata": {},
   "outputs": [
    {
     "name": "stdout",
     "output_type": "stream",
     "text": [
      "8\n",
      "['toyota', 2.5, 7, 55, 81]\n",
      "[2, 5, 7, 11, 13]\n"
     ]
    }
   ],
   "source": [
    "list1 = [\"toyota\", 2.5, 7, 99, \"camry\", \"barca\"]\n",
    "#Replace a part of it with something else\n",
    "list1[3:5]= [81, \"corolla\"]\n",
    "#Append or insert several more items to the list\n",
    "list1.append(\"ford\")\n",
    "list1.insert(3, 55)\n",
    "# Find and print the length of the list\n",
    "print(len(list1))\n",
    "\n",
    "    # - Slice a sub-section of the 1st list, and save it to a different 2nd list\n",
    "    # - Print the 2nd list\n",
    "list2 = list1[0:5]\n",
    "print(list2)\n",
    "    # - Extend your original list with the 2nd list sliced above\n",
    "list1.extend(list2)\n",
    "    # - Create a new list called \"simList\" \n",
    "    # containing at least 5 elements of the same data type,\n",
    "    #  either string, integer, float, or Boolean\n",
    "simList =[2, 7, 11, 5, 13]\n",
    "\n",
    "    # - Sort \"simList\", and print the list\n",
    "simList.sort()\n",
    "print(simList)\n",
    "    # - Copy the \"simList\" list to another 3rd list\n",
    "list3 = simList.copy()\n",
    "    # - Add the 2nd and 3rd lists together into a 4th list\n",
    "list4 = list3 + simList"
   ]
  },
  {
   "cell_type": "markdown",
   "metadata": {},
   "source": [
    "### 11. Create a tuple of about 5 elements"
   ]
  },
  {
   "cell_type": "code",
   "execution_count": null,
   "metadata": {},
   "outputs": [
    {
     "name": "stdout",
     "output_type": "stream",
     "text": [
      "2002\n",
      "[2002, 2002, 2002, 3.33, 3.33, 3.33, 4, 4, 4, 'car', 'car', 'car', 'year', 'year', 'year']\n",
      "3.33 4 car 2002\n",
      "single value tuple ... (50,)\n",
      "('car', 2002, 'year', 3.33, 4, 'car', 2002, 'year', 3.33, 4, 'car', 2002, 'year', 3.33, 4, 3.33, 4, 'car', 2002)\n"
     ]
    }
   ],
   "source": [
    "tuple1 = (\"car\", 2002, \"year\", 3.33, 4)\n",
    "#   - Multiply your tuple by 3 and save it to a new 2nd tuple\n",
    "tuple2 = tuple1 * 3\n",
    "#   - Access and print the 12th element from the 2nd tuple\n",
    "print(tuple2[11])\n",
    "#   - Sort the 2nd tuple and print it\n",
    "# Sort with a key to handle mixed types\n",
    "sorted_tuple2 = sorted(tuple2, key=lambda x: str(x)) # key=str to convert all elements into strings before sorting\n",
    "print(sorted_tuple2)\n",
    "#   - Copy 4 specific elements from your 2nd tuple to a new 3rd tuple\n",
    "tuple3 = tuple2[3:7]\n",
    "#   - Unpack the 3rd tuple into 4 variables and print these variables\n",
    "v, y, a, p = tuple3 # you only have 4 elements in tuple3, so only 4 variables.\n",
    "print(v, y, a, p)\n",
    "#   - Create a 4th tuple with single item 50 and print this tuple\n",
    "tuple4 = (50,)\n",
    "print(\"single value tuple ...\", tuple4)\n",
    "#   - Add the 2nd and 3rd tuple together into a 5th tuple and print the tuple\n",
    "tuple5 = tuple2 + tuple3\n",
    "print(tuple5)"
   ]
  },
  {
   "cell_type": "markdown",
   "metadata": {},
   "source": [
    "### 12. Create a set of about 3 elements"
   ]
  },
  {
   "cell_type": "code",
   "execution_count": null,
   "metadata": {},
   "outputs": [
    {
     "name": "stdout",
     "output_type": "stream",
     "text": [
      "{'banana', 5.55, 5, 'kiwi', 'apple', 'grape'}\n",
      "{'car', 'banana', 5.55, 5, 'kiwi', 'apple', 'grape'}\n",
      "{1, 'car', 'banana', 5.55, 5, 3, 'kiwi', 7, 9, 'apple', 'grape'}\n",
      "1\n",
      "{3, 5, 7, 9}\n",
      "set()\n",
      "{'car', 'banana', 5.55, 5, 3, 'kiwi', 7, 9, 'grape'}\n"
     ]
    }
   ],
   "source": [
    "set1 = {5, \"apple\", 5.55}\n",
    "\n",
    "#   - Add a list of fruits to the above set and print the result\n",
    "set1.update([\"banana\", \"kiwi\", \"grape\"])\n",
    "print(set1)\n",
    "\n",
    "#   - Add a car element to your set\n",
    "set1.add(\"car\")\n",
    "print(set1)\n",
    "\n",
    "#   - Create a 2nd set with a few odd items\n",
    "set2 = {1, 3, 5, 7, 9}\n",
    "\n",
    "#   - Save the union of 1st set and 2nd set to a 3rd set\n",
    "set3 = set1.union(set2)\n",
    "print(set3)\n",
    "\n",
    "#   - Pop an element from the 2nd set, and print the remainder of the set\n",
    "popped_element = set2.pop()\n",
    "print(popped_element)\n",
    "print( set2)\n",
    "\n",
    "#   - Clear the 1st set and print the result\n",
    "set1.clear()\n",
    "print(set1)\n",
    "\n",
    "#   - Discard an element, and remove another element from the 3rd set\n",
    "set3.discard(\"apple\")\n",
    "set3.remove(1)\n",
    "print( set3)"
   ]
  },
  {
   "cell_type": "markdown",
   "metadata": {},
   "source": [
    "## 13. Create a dictionary with at least 5 values of different data types"
   ]
  },
  {
   "cell_type": "code",
   "execution_count": null,
   "metadata": {},
   "outputs": [
    {
     "name": "stdout",
     "output_type": "stream",
     "text": [
      "2015\n",
      "{'maker': 'toyota', 'model': 'crown', 'year': 2015, 'suv': False, 'milage': 31, 'name': 'Mahfoud'}\n",
      "{'maker': 'toyota', 'model': 'crown', 'year': 2015, 'suv': False, 'milage': 31, 'name': 'Mahfoud', 'favorite_color': 'green'}\n",
      "{'maker': 'toyota', 'model': 'crown', 'year': 2015, 'suv': False, 'milage': 31, 'name': 'Mahfoud', 'favorite_color': 'green', 'list1': [10, 20, 30]}\n",
      "['maker', 'model', 'year', 'suv', 'milage', 'name', 'favorite_color', 'list1']\n",
      "['toyota', 'crown', 2015, False, 31, 'Mahfoud', 'green', [10, 20, 30]]\n",
      "{'maker': 'toyota', 'model': 'crown', 'year': 2015, 'suv': False, 'milage': 31, 'name': 'Mahfoud', 'favorite_color': 'green', 'list1': [10, 20, 30]}\n",
      "2015\n",
      "{'maker': 'toyota', 'model': 'crown', 'suv': False, 'milage': 31, 'name': 'Mahfoud', 'favorite_color': 'green', 'list1': [10, 20, 30]}\n",
      "{}\n"
     ]
    }
   ],
   "source": [
    "dict1 = {\n",
    "    \"maker\": \"toyota\",\n",
    "    \"model\": \"crown\",\n",
    "    \"year\": 2015,\n",
    "    \"suv\": False,\n",
    "    \"milage\": 31\n",
    "    \n",
    "}\n",
    "\n",
    "#   - Print out 1 value\n",
    "print(dict1[\"year\"])\n",
    "\n",
    "#   - Replace any one value in your dictionary with your name\n",
    "dict1[\"name\"] = \"Mahfoud\"\n",
    "print(dict1)\n",
    "\n",
    "#   - Add your favorite color to the dictionary\n",
    "dict1[\"favorite_color\"] = \"green\"\n",
    "print(dict1)\n",
    "\n",
    "#   - Add a list, tuple or set to your dictionary\n",
    "dict1[\"list1\"] = [10, 20, 30]\n",
    "print(dict1)\n",
    "\n",
    "#   - Print a list of the dictionary keys\n",
    "print(list(dict1.keys()))\n",
    "\n",
    "#   - Print a list of the dictionary values\n",
    "print(list(dict1.values()))\n",
    "\n",
    "#   - Copy your 1st dictionary into a 2nd dictionary\n",
    "dict2 = dict1.copy()\n",
    "print(dict2)\n",
    "\n",
    "#   - Pop an item from the 2nd dictionary, and print the dictionary\n",
    "popped_item = dict2.pop(\"year\")\n",
    "print(popped_item)\n",
    "print(dict2)\n",
    "\n",
    "#   - Remove all the elements from the 2nd dictionary and print the result\n",
    "dict2.clear()\n",
    "print(dict2)"
   ]
  }
 ],
 "metadata": {
  "kernelspec": {
   "display_name": "Python 3",
   "language": "python",
   "name": "python3"
  },
  "language_info": {
   "codemirror_mode": {
    "name": "ipython",
    "version": 3
   },
   "file_extension": ".py",
   "mimetype": "text/x-python",
   "name": "python",
   "nbconvert_exporter": "python",
   "pygments_lexer": "ipython3",
   "version": "3.13.2"
  }
 },
 "nbformat": 4,
 "nbformat_minor": 2
}
